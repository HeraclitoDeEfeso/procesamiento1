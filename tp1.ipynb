{
 "cells": [
  {
   "cell_type": "markdown",
   "metadata": {},
   "source": [
    "#### Ejercicio 1\n",
    "\n",
    "Implementar una función que, dada la frecuencia de muestreo y una \n",
    "cantidad de muestras, devuelva la duración en el tiempo de una señal \n",
    "con dichas características.\n",
    "\n",
    "##### Solución:\n",
    "\n",
    "En principio definiremos la representación de una muestra de una señal como \n",
    "una terna compuesta de un vector de muestras, un real que exprese su \n",
    "frecuencia de muestreo y otro real que indique el tiempo de inicio de la señal:\n",
    "\n",
    "$$\n",
    "    ([x_1, x_2, ..., x_n], F, t_0) \\quad \n",
    "    \\text{con} \\quad x_i, F, t_0 \\in \\mathbb{R} \\quad\n",
    "    \\text{y} \\quad F > 0\n",
    "$$\n",
    "\n",
    "Donde las $x_i$ representarán la amplitud muestreada de la señal en un \n",
    "instante dado, todas en la misma unidad de amplitud, $F$ será la frecuencia de \n",
    "muestreo expresada en hercios y $t_0$ será el instante inicial de la \n",
    "señal expresado en segundos con respecto a un mismo marco temporal para\n",
    "todas nuestras señales.\n",
    "\n",
    "Para una mejor reutilización del código en futuros trabajos, crearemos\n",
    "un módulo llamado `practica1` que contendrá todas las funciones que\n",
    "definiremos. El código fuente de las mismas será presentado mediante \n",
    "la función `code()` de nuestro módulo `auxnb`. "
   ]
  },
  {
   "cell_type": "code",
   "execution_count": 1,
   "metadata": {},
   "outputs": [],
   "source": [
    "from practica1 import *\n",
    "from auxnb import code"
   ]
  },
  {
   "cell_type": "markdown",
   "metadata": {},
   "source": [
    "Así es como definimos entonces nuestra función `duration()` que nos \n",
    "devolverá la duración en el tiempo expresada en segundos de una señal \n",
    "a partir de su representación:"
   ]
  },
  {
   "cell_type": "code",
   "execution_count": 2,
   "metadata": {
    "scrolled": true
   },
   "outputs": [
    {
     "data": {
      "text/markdown": [
       "```python\n",
       "def duration(signal):\n",
       "    return ((len(signal[0]) - 1) / signal[1])\n",
       "```"
      ],
      "text/plain": [
       "<IPython.core.display.Markdown object>"
      ]
     },
     "metadata": {},
     "output_type": "display_data"
    }
   ],
   "source": [
    "code(duration)"
   ]
  },
  {
   "cell_type": "markdown",
   "metadata": {},
   "source": [
    "Verifiquemos su utilización con un pequeño ejemplo (definimos nuestra\n",
    "señal primero como una variable simbólica previendo que en el \n",
    "futuro podamos muestrear una señal real):"
   ]
  },
  {
   "cell_type": "code",
   "execution_count": 3,
   "metadata": {},
   "outputs": [
    {
     "data": {
      "text/plain": [
       "0.16"
      ]
     },
     "execution_count": 3,
     "metadata": {},
     "output_type": "execute_result"
    }
   ],
   "source": [
    "s1 = ([1, 2, 6, 3, -2, -1, 8, 2, 1], 50, 0)\n",
    "duration(s1)"
   ]
  },
  {
   "cell_type": "markdown",
   "metadata": {},
   "source": [
    "#### Ejercicio 2\n",
    "\n",
    "Implementar una función que calcule el valor medio de una señal.\n",
    "\n",
    "##### Solución\n",
    "\n",
    "Tomaremos como definición de valor medio de nuestra señal discretizada\n",
    "a sus muestras como:\n",
    "\n",
    "$$\n",
    "    \\bar{x} = \\frac{1}{n} \\sum_{i=1}^{n} x_i\n",
    "$$\n",
    "\n",
    "De manera que definimos nuestra función `med()` como:"
   ]
  },
  {
   "cell_type": "code",
   "execution_count": 4,
   "metadata": {},
   "outputs": [
    {
     "data": {
      "text/markdown": [
       "```python\n",
       "def med(signal):\n",
       "    return (sum(signal[0]) / len(signal[0]))\n",
       "```"
      ],
      "text/plain": [
       "<IPython.core.display.Markdown object>"
      ]
     },
     "metadata": {},
     "output_type": "display_data"
    }
   ],
   "source": [
    "code(med)"
   ]
  },
  {
   "cell_type": "markdown",
   "metadata": {},
   "source": [
    "Verificamos su utilización con la misma señal del ejercicio anterior:"
   ]
  },
  {
   "cell_type": "code",
   "execution_count": 5,
   "metadata": {},
   "outputs": [
    {
     "data": {
      "text/plain": [
       "2.2222222222222223"
      ]
     },
     "execution_count": 5,
     "metadata": {},
     "output_type": "execute_result"
    }
   ],
   "source": [
    "med(s1)"
   ]
  }
 ],
 "metadata": {
  "kernelspec": {
   "display_name": "Python 3",
   "language": "python",
   "name": "python3"
  },
  "language_info": {
   "codemirror_mode": {
    "name": "ipython",
    "version": 3
   },
   "file_extension": ".py",
   "mimetype": "text/x-python",
   "name": "python",
   "nbconvert_exporter": "python",
   "pygments_lexer": "ipython3",
   "version": "3.8.5"
  },
  "metadata": {
   "interpreter": {
    "hash": "0600588c3b5f4418cbe7b5ebc6825b479f3bc010269d8b60d75058cdd010adfe"
   }
  }
 },
 "nbformat": 4,
 "nbformat_minor": 2
}
